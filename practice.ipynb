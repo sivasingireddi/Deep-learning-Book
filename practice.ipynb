{
 "cells": [
  {
   "cell_type": "code",
   "execution_count": 1,
   "id": "21cf47e0-f859-4119-afed-fa0962e1baff",
   "metadata": {},
   "outputs": [],
   "source": [
    "import numpy as np"
   ]
  },
  {
   "cell_type": "code",
   "execution_count": 2,
   "id": "ad726250-a351-4806-8143-7c238f2bce5d",
   "metadata": {},
   "outputs": [
    {
     "name": "stderr",
     "output_type": "stream",
     "text": [
      "2024-06-05 10:04:07.098987: I tensorflow/core/platform/cpu_feature_guard.cc:182] This TensorFlow binary is optimized to use available CPU instructions in performance-critical operations.\n",
      "To enable the following instructions: SSE4.1 SSE4.2 AVX AVX2 AVX512F FMA, in other operations, rebuild TensorFlow with the appropriate compiler flags.\n"
     ]
    }
   ],
   "source": [
    "import tensorflow as tf\n",
    "import scipy as sp\n",
    "import torch\n",
    "import keras as ks"
   ]
  },
  {
   "cell_type": "code",
   "execution_count": 3,
   "id": "3dd84106-2dce-4a56-81b4-938af8699293",
   "metadata": {},
   "outputs": [],
   "source": [
    "from keras.datasets import mnist"
   ]
  },
  {
   "cell_type": "code",
   "execution_count": 4,
   "id": "f365103e-49f3-4d3f-8a3e-b480989c6434",
   "metadata": {},
   "outputs": [],
   "source": [
    "### datset loading ###\n",
    "(train_data,train_labels),(test_data,test_labels) = mnist.load_data()"
   ]
  },
  {
   "cell_type": "code",
   "execution_count": 5,
   "id": "fbb95378-07c4-4f2e-99f1-4572a1fcee04",
   "metadata": {},
   "outputs": [
    {
     "data": {
      "text/plain": [
       "3"
      ]
     },
     "execution_count": 5,
     "metadata": {},
     "output_type": "execute_result"
    }
   ],
   "source": [
    "train_data.ndim"
   ]
  },
  {
   "cell_type": "code",
   "execution_count": 6,
   "id": "f7f9e2b3-c9cb-47bb-a257-3e3f3c0e2886",
   "metadata": {},
   "outputs": [
    {
     "data": {
      "text/plain": [
       "(60000, 28, 28)"
      ]
     },
     "execution_count": 6,
     "metadata": {},
     "output_type": "execute_result"
    }
   ],
   "source": [
    "train_data.shape"
   ]
  },
  {
   "cell_type": "code",
   "execution_count": 7,
   "id": "ff069ea4-91a8-4c9c-85d3-671f586d3b89",
   "metadata": {},
   "outputs": [],
   "source": [
    "### reshaping the data to 2-d###\n",
    "train_data = train_data.reshape((60000,28*28))\n",
    "train_data = train_data.astype('float32')/255"
   ]
  },
  {
   "cell_type": "code",
   "execution_count": 8,
   "id": "ec2a6909-9c87-4fee-be10-1e0f6cab9743",
   "metadata": {},
   "outputs": [
    {
     "data": {
      "text/plain": [
       "(60000, 784)"
      ]
     },
     "execution_count": 8,
     "metadata": {},
     "output_type": "execute_result"
    }
   ],
   "source": [
    "train_data.shape"
   ]
  },
  {
   "cell_type": "code",
   "execution_count": 9,
   "id": "9aa81124-56e4-4913-b5da-905c269b3d6a",
   "metadata": {},
   "outputs": [
    {
     "data": {
      "text/plain": [
       "2"
      ]
     },
     "execution_count": 9,
     "metadata": {},
     "output_type": "execute_result"
    }
   ],
   "source": [
    "train_data.ndim"
   ]
  },
  {
   "cell_type": "code",
   "execution_count": 10,
   "id": "7a6697e3-d061-434e-a666-3877cc06d7d5",
   "metadata": {},
   "outputs": [
    {
     "data": {
      "text/plain": [
       "dtype('float32')"
      ]
     },
     "execution_count": 10,
     "metadata": {},
     "output_type": "execute_result"
    }
   ],
   "source": [
    "train_data.dtype"
   ]
  },
  {
   "cell_type": "code",
   "execution_count": 11,
   "id": "0dbc77c1-5c30-41df-ba63-35c2be920c96",
   "metadata": {},
   "outputs": [],
   "source": [
    "test_data = test_data.reshape((10000,28*28))\n",
    "test_data= test_data.astype('float32')/255"
   ]
  },
  {
   "cell_type": "code",
   "execution_count": 12,
   "id": "03223e8f-c15c-4bdb-8195-fc3330b3b217",
   "metadata": {},
   "outputs": [
    {
     "data": {
      "text/plain": [
       "(10000, 784)"
      ]
     },
     "execution_count": 12,
     "metadata": {},
     "output_type": "execute_result"
    }
   ],
   "source": [
    "test_data.shape"
   ]
  },
  {
   "cell_type": "code",
   "execution_count": 13,
   "id": "145a6eed-42c6-4d9d-9602-d6132db35733",
   "metadata": {},
   "outputs": [
    {
     "data": {
      "text/plain": [
       "2"
      ]
     },
     "execution_count": 13,
     "metadata": {},
     "output_type": "execute_result"
    }
   ],
   "source": [
    "test_data.ndim"
   ]
  },
  {
   "cell_type": "code",
   "execution_count": 14,
   "id": "3daa0e17-597f-4b78-af2b-88e2fe4eafdb",
   "metadata": {},
   "outputs": [
    {
     "data": {
      "text/plain": [
       "<function ndarray.astype>"
      ]
     },
     "execution_count": 14,
     "metadata": {},
     "output_type": "execute_result"
    }
   ],
   "source": [
    "test_data.astype"
   ]
  },
  {
   "cell_type": "code",
   "execution_count": 15,
   "id": "26aa7b5f-e1ef-4b8b-8677-b89395c6bc85",
   "metadata": {},
   "outputs": [
    {
     "data": {
      "text/plain": [
       "dtype('float32')"
      ]
     },
     "execution_count": 15,
     "metadata": {},
     "output_type": "execute_result"
    }
   ],
   "source": [
    "test_data.dtype"
   ]
  },
  {
   "cell_type": "code",
   "execution_count": 16,
   "id": "8a729940-3138-48ff-8497-2781f2753e59",
   "metadata": {},
   "outputs": [],
   "source": [
    "##### creating the model for network training #####"
   ]
  },
  {
   "cell_type": "code",
   "execution_count": 17,
   "id": "e5ff1d74-2ea5-4201-8839-bac3d4755191",
   "metadata": {},
   "outputs": [],
   "source": [
    "from keras import models\n",
    "from keras import layers"
   ]
  },
  {
   "cell_type": "code",
   "execution_count": 18,
   "id": "f80d2d2c-dcb5-4b0b-ac47-12267bf21b03",
   "metadata": {},
   "outputs": [],
   "source": [
    "model= models.Sequential()"
   ]
  },
  {
   "cell_type": "code",
   "execution_count": 19,
   "id": "082ca2a8-88ce-4d43-af59-28746c23e373",
   "metadata": {},
   "outputs": [],
   "source": [
    "model.add(layers.Dense(512,activation='relu',input_shape=(28*28,)))"
   ]
  },
  {
   "cell_type": "code",
   "execution_count": 20,
   "id": "6c88714e-6e5e-473f-97e1-0cef44ede248",
   "metadata": {},
   "outputs": [],
   "source": [
    "model.add(layers.Dense(10,activation='softmax'))"
   ]
  },
  {
   "cell_type": "code",
   "execution_count": 21,
   "id": "64b06068-e06f-47bb-acc1-ca25501c4989",
   "metadata": {},
   "outputs": [],
   "source": [
    "model.compile(optimizer=\"rmsprop\",loss=\"categorical_crossentropy\",metrics=\"accuracy\")"
   ]
  },
  {
   "cell_type": "code",
   "execution_count": 22,
   "id": "3ba903a6-d9f0-496c-b095-db15e5129d04",
   "metadata": {},
   "outputs": [],
   "source": [
    "from keras.utils import to_categorical\n",
    "train_labels = to_categorical(train_labels,10)\n",
    "test_labels = to_categorical(test_labels,10)"
   ]
  },
  {
   "cell_type": "code",
   "execution_count": 33,
   "id": "458da61a-22a0-41fa-996d-44dd6adb65b9",
   "metadata": {},
   "outputs": [
    {
     "name": "stdout",
     "output_type": "stream",
     "text": [
      "Epoch 1/10\n",
      " 15/469 [..............................] - ETA: 3s - loss: 0.0098 - accuracy: 0.9990"
     ]
    },
    {
     "name": "stderr",
     "output_type": "stream",
     "text": [
      "2024-06-05 10:06:57.378633: W tensorflow/tsl/framework/cpu_allocator_impl.cc:83] Allocation of 188160000 exceeds 10% of free system memory.\n"
     ]
    },
    {
     "name": "stdout",
     "output_type": "stream",
     "text": [
      "469/469 [==============================] - 4s 7ms/step - loss: 0.0070 - accuracy: 0.9983\n",
      "Epoch 2/10\n",
      "469/469 [==============================] - 3s 7ms/step - loss: 0.0052 - accuracy: 0.9989\n",
      "Epoch 3/10\n",
      "469/469 [==============================] - 3s 7ms/step - loss: 0.0035 - accuracy: 0.9994\n",
      "Epoch 4/10\n",
      "469/469 [==============================] - 3s 7ms/step - loss: 0.0027 - accuracy: 0.9995\n",
      "Epoch 5/10\n",
      "469/469 [==============================] - 3s 7ms/step - loss: 0.0015 - accuracy: 0.9998\n",
      "Epoch 6/10\n",
      "469/469 [==============================] - 3s 7ms/step - loss: 0.0011 - accuracy: 0.9999\n",
      "Epoch 7/10\n",
      "469/469 [==============================] - 3s 7ms/step - loss: 6.7096e-04 - accuracy: 1.0000\n",
      "Epoch 8/10\n",
      "469/469 [==============================] - 5s 10ms/step - loss: 4.8232e-04 - accuracy: 1.0000\n",
      "Epoch 9/10\n",
      "469/469 [==============================] - 4s 9ms/step - loss: 4.0906e-04 - accuracy: 1.0000\n",
      "Epoch 10/10\n",
      "469/469 [==============================] - 4s 8ms/step - loss: 3.2795e-04 - accuracy: 1.0000\n"
     ]
    }
   ],
   "source": [
    "history = model.fit(train_data,train_labels,batch_size=128,epochs=10)"
   ]
  },
  {
   "cell_type": "code",
   "execution_count": 24,
   "id": "e712299c-663d-4c01-928f-6522d7931541",
   "metadata": {},
   "outputs": [
    {
     "data": {
      "text/plain": [
       "<keras.engine.sequential.Sequential at 0x7f02ea9a9450>"
      ]
     },
     "execution_count": 24,
     "metadata": {},
     "output_type": "execute_result"
    }
   ],
   "source": [
    "model"
   ]
  },
  {
   "cell_type": "code",
   "execution_count": 25,
   "id": "1a0448fa-f985-4575-a734-84da87b3ff34",
   "metadata": {},
   "outputs": [
    {
     "data": {
      "text/plain": [
       "<keras.engine.sequential.Sequential at 0x7f02ea9a9450>"
      ]
     },
     "execution_count": 25,
     "metadata": {},
     "output_type": "execute_result"
    }
   ],
   "source": [
    "model"
   ]
  },
  {
   "cell_type": "code",
   "execution_count": 26,
   "id": "3c25f540-5f09-4f56-9d6f-9dcf6fdebfad",
   "metadata": {},
   "outputs": [
    {
     "name": "stdout",
     "output_type": "stream",
     "text": [
      "<keras.engine.sequential.Sequential object at 0x7f02ea9a9450>\n"
     ]
    }
   ],
   "source": [
    "print(model)"
   ]
  },
  {
   "cell_type": "code",
   "execution_count": 27,
   "id": "7404d601-9858-47c2-aab8-62daf661c2ec",
   "metadata": {},
   "outputs": [
    {
     "name": "stdout",
     "output_type": "stream",
     "text": [
      "Model: \"sequential\"\n",
      "_________________________________________________________________\n",
      " Layer (type)                Output Shape              Param #   \n",
      "=================================================================\n",
      " dense (Dense)               (None, 512)               401920    \n",
      "                                                                 \n",
      " dense_1 (Dense)             (None, 10)                5130      \n",
      "                                                                 \n",
      "=================================================================\n",
      "Total params: 407,050\n",
      "Trainable params: 407,050\n",
      "Non-trainable params: 0\n",
      "_________________________________________________________________\n"
     ]
    }
   ],
   "source": [
    "model.summary()"
   ]
  },
  {
   "cell_type": "code",
   "execution_count": 28,
   "id": "61d32486-b5ed-483c-ae00-39962b61246a",
   "metadata": {},
   "outputs": [
    {
     "data": {
      "text/plain": [
       "<keras.callbacks.History at 0x7f02e7549d80>"
      ]
     },
     "execution_count": 28,
     "metadata": {},
     "output_type": "execute_result"
    }
   ],
   "source": [
    "model.history"
   ]
  },
  {
   "cell_type": "code",
   "execution_count": 29,
   "id": "02867424-a87f-42f7-acc2-b3e05992910b",
   "metadata": {},
   "outputs": [
    {
     "data": {
      "text/plain": [
       "[<keras.layers.core.dense.Dense at 0x7f02ea9aa320>,\n",
       " <keras.layers.core.dense.Dense at 0x7f02ea9ab520>]"
      ]
     },
     "execution_count": 29,
     "metadata": {},
     "output_type": "execute_result"
    }
   ],
   "source": [
    "model.layers"
   ]
  },
  {
   "cell_type": "code",
   "execution_count": 30,
   "id": "7c1d8b9f-8817-4598-adb0-8438c0ac99ad",
   "metadata": {},
   "outputs": [
    {
     "name": "stdout",
     "output_type": "stream",
     "text": [
      "<keras.layers.core.dense.Dense object at 0x7f02ea9aa320>\n",
      "<keras.layers.core.dense.Dense object at 0x7f02ea9ab520>\n"
     ]
    }
   ],
   "source": [
    "for layer in model.layers:\n",
    "    print(layer)"
   ]
  },
  {
   "cell_type": "code",
   "execution_count": 31,
   "id": "ed322096-7961-44b9-b247-a1357d079fe8",
   "metadata": {},
   "outputs": [
    {
     "data": {
      "text/plain": [
       "{'name': 'sequential',\n",
       " 'layers': [{'class_name': 'InputLayer',\n",
       "   'config': {'batch_input_shape': (None, 784),\n",
       "    'dtype': 'float32',\n",
       "    'sparse': False,\n",
       "    'ragged': False,\n",
       "    'name': 'dense_input'}},\n",
       "  {'class_name': 'Dense',\n",
       "   'config': {'name': 'dense',\n",
       "    'trainable': True,\n",
       "    'dtype': 'float32',\n",
       "    'batch_input_shape': (None, 784),\n",
       "    'units': 512,\n",
       "    'activation': 'relu',\n",
       "    'use_bias': True,\n",
       "    'kernel_initializer': {'class_name': 'GlorotUniform',\n",
       "     'config': {'seed': None}},\n",
       "    'bias_initializer': {'class_name': 'Zeros', 'config': {}},\n",
       "    'kernel_regularizer': None,\n",
       "    'bias_regularizer': None,\n",
       "    'activity_regularizer': None,\n",
       "    'kernel_constraint': None,\n",
       "    'bias_constraint': None}},\n",
       "  {'class_name': 'Dense',\n",
       "   'config': {'name': 'dense_1',\n",
       "    'trainable': True,\n",
       "    'dtype': 'float32',\n",
       "    'units': 10,\n",
       "    'activation': 'softmax',\n",
       "    'use_bias': True,\n",
       "    'kernel_initializer': {'class_name': 'GlorotUniform',\n",
       "     'config': {'seed': None}},\n",
       "    'bias_initializer': {'class_name': 'Zeros', 'config': {}},\n",
       "    'kernel_regularizer': None,\n",
       "    'bias_regularizer': None,\n",
       "    'activity_regularizer': None,\n",
       "    'kernel_constraint': None,\n",
       "    'bias_constraint': None}}]}"
      ]
     },
     "execution_count": 31,
     "metadata": {},
     "output_type": "execute_result"
    }
   ],
   "source": [
    "model.get_config()"
   ]
  },
  {
   "cell_type": "code",
   "execution_count": 32,
   "id": "eadad6f5-867e-46ab-a0c2-229eefdc7a8b",
   "metadata": {},
   "outputs": [
    {
     "data": {
      "text/plain": [
       "[array([[ 0.03597873,  0.05589805, -0.04999024, ...,  0.06137922,\n",
       "          0.06788728,  0.06201659],\n",
       "        [ 0.04549234, -0.03199369, -0.05182894, ...,  0.01009662,\n",
       "         -0.01292498, -0.02477341],\n",
       "        [-0.00214047, -0.01352407, -0.04275655, ..., -0.03291527,\n",
       "          0.04123679,  0.04338285],\n",
       "        ...,\n",
       "        [-0.05215891,  0.01795574,  0.05908644, ...,  0.04609929,\n",
       "         -0.05320003,  0.06170879],\n",
       "        [ 0.05303792, -0.00044061,  0.02736463, ..., -0.01453993,\n",
       "         -0.01197476,  0.04998887],\n",
       "        [-0.01999363, -0.06074487,  0.01410899, ..., -0.03806914,\n",
       "          0.02562588,  0.06524165]], dtype=float32),\n",
       " array([ 2.24313270e-02, -2.97710765e-02, -2.09868103e-02,  8.94825459e-02,\n",
       "        -3.33775729e-02,  1.01270810e-01, -4.28345799e-02,  5.06633446e-02,\n",
       "         2.55940296e-02,  4.98477370e-03, -9.44090933e-02, -3.26585621e-02,\n",
       "         7.10617080e-02, -7.07514808e-02,  1.06862172e-01,  4.53112945e-02,\n",
       "        -5.54786390e-03, -9.02562519e-04,  3.11031602e-02,  1.51065364e-02,\n",
       "        -4.92655672e-02,  3.02738175e-02, -4.23073769e-02,  3.66772860e-02,\n",
       "        -8.45933333e-03, -5.88376112e-02, -3.72854341e-03,  6.88577536e-03,\n",
       "        -6.43494129e-02, -4.87434585e-03, -2.77754031e-02, -5.43544963e-02,\n",
       "         1.93852596e-02, -4.34860177e-02, -9.89751238e-03, -5.81041463e-02,\n",
       "         1.05460174e-01,  1.79176461e-02,  1.26149893e-01, -4.80132783e-03,\n",
       "        -5.05647901e-03,  1.14821039e-01, -2.61180289e-02, -7.56123364e-02,\n",
       "         9.94116291e-02, -3.65636032e-03,  2.10417118e-02, -4.79006544e-02,\n",
       "        -1.73680726e-02,  1.07795231e-01,  1.47567214e-02,  1.20240776e-02,\n",
       "        -5.83004430e-02,  4.11104411e-02,  1.18291616e-01,  2.28028316e-02,\n",
       "         2.14577280e-02, -4.98172315e-03, -5.63689359e-02, -8.38332251e-03,\n",
       "         6.05690703e-02, -5.27046621e-02,  2.40410422e-03,  1.98237151e-02,\n",
       "        -6.78875074e-02,  2.74330173e-02, -4.26482782e-02, -5.53207137e-02,\n",
       "        -3.24984640e-02, -8.08337107e-02, -2.17537973e-02, -3.58830183e-03,\n",
       "        -7.24430978e-02,  9.18551832e-02, -1.07476339e-02,  1.32156070e-02,\n",
       "        -9.77360085e-02, -5.41365647e-04, -4.88890819e-02,  8.79941583e-02,\n",
       "        -7.07974955e-02,  6.94865063e-02,  3.26596051e-02,  7.99402297e-02,\n",
       "        -6.84085209e-03,  5.75161539e-03, -7.85429962e-03, -3.41938101e-02,\n",
       "         1.42592250e-03,  1.02421585e-02, -6.35060966e-02, -6.78842738e-02,\n",
       "        -2.62211706e-03, -6.96433755e-03,  6.15732046e-04,  1.13540582e-01,\n",
       "         1.45375226e-02, -1.91489998e-02, -3.84279452e-02, -2.57624891e-02,\n",
       "         2.41921321e-02, -5.22303358e-02,  2.49128379e-02, -1.65806171e-02,\n",
       "        -2.61959471e-02, -7.56521523e-02,  9.84217320e-03,  2.15796828e-02,\n",
       "         1.10763311e-02, -7.79216811e-02,  7.06657916e-02,  7.05422014e-02,\n",
       "         1.19794607e-02, -1.29879145e-02,  7.94168003e-03,  1.77390892e-02,\n",
       "         7.40847662e-02, -1.17850229e-02,  7.20990449e-02,  3.83158438e-02,\n",
       "         8.35094154e-02,  2.51603238e-02,  2.39071827e-02, -1.44751906e-01,\n",
       "        -4.75862995e-02,  7.82064721e-03,  7.23236948e-02,  1.14706317e-02,\n",
       "        -1.51655581e-02, -7.86402076e-03,  3.06055825e-02, -1.94780771e-02,\n",
       "         2.62024393e-03,  1.79562811e-02, -1.23880841e-02, -1.29333334e-02,\n",
       "        -3.67440991e-02, -1.38460770e-02, -2.21743379e-02, -4.78364117e-02,\n",
       "        -5.18820882e-02,  8.41838401e-03,  9.02715605e-04,  5.00819795e-02,\n",
       "        -1.02982987e-02,  4.16658632e-02, -4.69763391e-02,  2.91413465e-03,\n",
       "        -3.40190902e-02, -6.00118563e-03,  5.62344305e-03,  1.79081485e-02,\n",
       "         4.08621915e-02, -1.01310024e-02,  7.70429447e-02,  4.85354150e-03,\n",
       "        -2.99680196e-02, -5.59094176e-02, -8.29026848e-02, -2.42725182e-02,\n",
       "        -1.92177054e-02,  8.62699747e-02,  4.92329262e-02, -2.02438813e-02,\n",
       "         2.38223802e-02, -1.96662322e-02,  2.00145729e-02, -6.17045304e-03,\n",
       "         7.12067857e-02, -8.18437189e-02,  1.47538204e-02,  8.17076936e-02,\n",
       "        -4.32470664e-02,  1.67599805e-02, -2.71941181e-02, -7.20540248e-03,\n",
       "        -1.00462474e-02,  2.66525941e-03,  7.91797936e-02,  4.84783128e-02,\n",
       "         7.21140392e-03,  9.46551468e-03, -4.46172990e-03,  4.16240804e-02,\n",
       "        -2.29570456e-02, -1.43022221e-02,  9.45531800e-02,  1.29121080e-01,\n",
       "         1.29324747e-02,  6.21649772e-02, -4.71920967e-02,  8.51825997e-02,\n",
       "        -3.96867990e-02, -2.87060980e-02, -3.70120108e-02, -2.05559023e-02,\n",
       "         2.53750514e-02,  5.03682271e-02,  8.13614763e-03,  4.75817127e-03,\n",
       "         3.55826691e-03,  1.10676937e-01,  1.10008225e-01, -5.42404912e-02,\n",
       "         9.32403468e-03,  4.29111943e-02,  2.62193307e-02,  7.22272228e-03,\n",
       "        -1.16140665e-02, -1.03379771e-01,  7.34129399e-02,  3.49605717e-02,\n",
       "         4.60271463e-02,  1.90071650e-02, -2.28798296e-02,  4.85414863e-02,\n",
       "        -5.87789603e-02, -4.97051850e-02, -7.62232253e-03,  2.41911765e-02,\n",
       "        -6.61896393e-02, -4.25052829e-03, -3.12911160e-02,  6.99552819e-02,\n",
       "         2.42694542e-02, -1.25579406e-02,  8.57364014e-03, -9.24279820e-03,\n",
       "        -2.84052570e-03, -3.44470292e-02, -1.45581393e-02, -4.92560677e-02,\n",
       "         3.16446722e-02, -4.11539525e-02, -5.66968806e-02, -7.32225776e-02,\n",
       "        -3.06794979e-02, -6.50893748e-02,  2.53030546e-02, -3.15618217e-02,\n",
       "         3.89147340e-03, -2.71528633e-03,  6.64859312e-04,  1.48091018e-02,\n",
       "        -3.43453884e-02, -1.87393352e-02,  5.50264260e-03,  3.99705954e-02,\n",
       "        -3.18559222e-02, -2.64742300e-02, -4.60858382e-02, -6.70981333e-02,\n",
       "        -1.92552321e-02, -2.13194489e-02, -3.22835706e-02, -1.51810609e-02,\n",
       "         3.31094526e-02, -2.86451466e-02,  1.10636437e-02, -4.60829865e-03,\n",
       "         7.20403045e-02,  1.02152182e-02, -5.43117849e-03,  2.34943512e-03,\n",
       "        -2.02481315e-05,  3.97896841e-02,  5.02861589e-02,  8.46293103e-03,\n",
       "         5.63672036e-02,  2.29707360e-02,  1.02054970e-02,  3.28220576e-02,\n",
       "         2.45371624e-03, -5.08029200e-02,  7.80537073e-03,  6.11206936e-03,\n",
       "        -1.56031339e-03, -5.85319567e-03,  8.06880184e-03,  2.49058381e-02,\n",
       "        -2.40634568e-02,  4.37767757e-03,  8.95646960e-02, -2.03747246e-02,\n",
       "         2.29436858e-03,  6.84767403e-03,  1.79309417e-02, -3.18069458e-02,\n",
       "        -7.02479705e-02,  3.81224342e-02,  5.89975044e-02,  3.97679657e-02,\n",
       "        -2.70611383e-02,  7.24514872e-02,  9.87155661e-02, -6.51276857e-02,\n",
       "         2.92302873e-02,  5.06172329e-02,  8.98292214e-02,  2.74565741e-02,\n",
       "         1.69590954e-03,  3.67354639e-02,  3.65651548e-02, -7.34900311e-02,\n",
       "         5.76703949e-03, -5.09381816e-02, -5.76856285e-02, -1.49821518e-02,\n",
       "        -6.69948906e-02,  6.89098462e-02,  4.57109027e-02,  2.58304123e-02,\n",
       "         6.51813112e-03, -5.45021035e-02,  7.85550773e-02, -1.63221732e-02,\n",
       "        -6.64353510e-03,  3.68678495e-02, -6.07952587e-02,  6.45831153e-02,\n",
       "         3.11975125e-02,  1.95205156e-02,  2.77368426e-02,  4.78463538e-04,\n",
       "        -5.22645004e-03,  5.86706167e-03,  9.05519277e-02, -9.60427150e-03,\n",
       "        -5.02071120e-02, -1.87514834e-02, -1.37192504e-02,  6.78212661e-03,\n",
       "         3.42279896e-02, -1.45383133e-02,  4.73504774e-02,  2.50538997e-02,\n",
       "        -1.25770096e-03,  1.97596718e-02, -2.14835722e-02, -1.72251463e-02,\n",
       "        -4.42707762e-02,  5.74057084e-03,  3.29010114e-02,  7.42650777e-03,\n",
       "        -3.78061570e-02,  8.48387703e-02, -4.30803113e-02, -2.68392265e-02,\n",
       "        -3.04621067e-02, -1.85904633e-02,  1.78134125e-02,  9.71234441e-02,\n",
       "         1.00885779e-01, -2.64172554e-02,  7.79646169e-03, -1.64582785e-02,\n",
       "         1.87802799e-02,  3.37209851e-02,  6.88706785e-02, -9.66646150e-03,\n",
       "         2.66700517e-03,  3.17120645e-03,  2.00952403e-02, -2.67488658e-02,\n",
       "        -1.17287356e-02,  3.78046627e-03,  4.22431913e-05, -1.05418833e-02,\n",
       "        -3.19524761e-03,  1.43807875e-02,  3.16836522e-03,  3.78519818e-02,\n",
       "        -5.65956533e-03, -2.84269601e-02,  1.09216813e-02, -5.31095155e-02,\n",
       "         1.79287158e-02, -2.65331473e-02, -4.90073264e-02,  8.41370411e-03,\n",
       "         4.29865532e-02, -2.86014844e-02,  2.04698201e-02, -4.46185730e-02,\n",
       "         1.95421297e-02, -7.20491037e-02,  1.37234004e-02, -4.01923321e-02,\n",
       "        -3.35155171e-04, -3.94010358e-02,  7.23185688e-02,  2.09855940e-02,\n",
       "        -3.31391469e-02,  2.00997815e-02, -7.45651545e-04,  7.12074339e-02,\n",
       "        -8.93878099e-03,  3.53989825e-02,  1.82522889e-02, -2.16897205e-02,\n",
       "        -4.95714806e-02,  5.83779067e-02,  8.18024799e-02,  7.57469272e-04,\n",
       "        -4.79112118e-02,  5.53270206e-02, -3.21974456e-02, -6.71342835e-02,\n",
       "         1.27981529e-01,  9.50091034e-02, -5.14711365e-02, -1.81207322e-02,\n",
       "        -3.02012525e-02,  3.24403979e-02,  2.20107529e-02, -3.72956470e-02,\n",
       "         9.92347226e-02,  3.83571424e-02, -5.18326536e-02,  3.70140485e-02,\n",
       "        -2.79366206e-02, -4.93934518e-03,  3.25261685e-03,  2.49693058e-02,\n",
       "         2.97613442e-02,  6.98587578e-03,  3.15155387e-02,  4.89845797e-02,\n",
       "         3.38880494e-02, -9.49407835e-03,  7.17083830e-03, -3.84917632e-02,\n",
       "        -5.21556698e-02,  5.53332977e-02,  5.99856116e-02, -7.94008723e-04,\n",
       "        -8.85687396e-02,  2.82903165e-02, -2.94719283e-02,  7.76639804e-02,\n",
       "        -9.56708193e-02,  4.04737368e-02,  3.00108474e-02, -1.43218301e-02,\n",
       "         3.77145335e-02,  1.19871065e-01,  4.59389538e-02,  2.84256227e-02,\n",
       "         5.22467159e-02,  8.98381695e-03, -4.55938280e-03,  2.92587429e-02,\n",
       "         2.47833431e-02, -1.92856286e-02,  4.59484793e-02, -3.97178978e-02,\n",
       "         7.60928020e-02, -7.91180283e-02, -3.87153067e-02,  3.94674949e-02,\n",
       "         4.68300236e-03,  4.78934422e-02, -1.03947468e-01, -2.60399543e-02,\n",
       "        -1.13566415e-02,  1.29218139e-02, -4.20987494e-02,  8.56053829e-02,\n",
       "         3.47811766e-02, -3.18870060e-02,  3.78692821e-02, -8.83412287e-02,\n",
       "         9.30340309e-03, -6.25599455e-03, -1.72122680e-02, -7.24377781e-02,\n",
       "        -1.80629306e-02,  9.96234789e-02, -1.72357596e-02,  2.43299883e-02,\n",
       "         4.17198241e-02, -6.38335198e-02, -3.63525227e-02, -2.69447919e-02,\n",
       "         2.67711934e-02, -4.61354367e-02,  5.08216256e-03,  8.00797716e-02,\n",
       "         2.08788514e-02, -9.63709801e-02,  3.83946225e-02,  7.31215104e-02,\n",
       "         1.12780174e-02, -1.24911265e-02,  6.76764250e-02, -1.52052492e-02,\n",
       "         1.56702921e-02, -4.26205695e-02,  9.20483395e-02,  3.19710076e-02,\n",
       "        -1.76857356e-02, -3.09334304e-02, -6.49705902e-02,  6.30899668e-02,\n",
       "         2.55022384e-02,  8.68523270e-02, -3.92614119e-02,  3.94973867e-02,\n",
       "         7.41890725e-03,  2.46851742e-02,  2.57015205e-03, -1.58203430e-02],\n",
       "       dtype=float32),\n",
       " array([[-0.28619483, -0.37379256, -0.24625945, ..., -0.04265704,\n",
       "         -0.00352853,  0.03971924],\n",
       "        [-0.05002766,  0.25632724, -0.20308048, ..., -0.28446376,\n",
       "         -0.35115355,  0.02553519],\n",
       "        [ 0.06108574, -0.24217297,  0.1675645 , ...,  0.25090268,\n",
       "         -0.2837573 , -0.4567296 ],\n",
       "        ...,\n",
       "        [ 0.09655578, -0.08773389,  0.06597094, ..., -0.41211662,\n",
       "          0.0093249 ,  0.00701232],\n",
       "        [ 0.05030718, -0.20414607,  0.00189772, ..., -0.2908956 ,\n",
       "          0.06707401,  0.03459194],\n",
       "        [-0.4261285 , -0.17019387,  0.03360064, ...,  0.1341233 ,\n",
       "          0.01824772,  0.1273145 ]], dtype=float32),\n",
       " array([-0.10337386, -0.05297549, -0.03087295, -0.02916365,  0.01720347,\n",
       "         0.0369331 , -0.0532677 , -0.05264629,  0.10077451,  0.00396304],\n",
       "       dtype=float32)]"
      ]
     },
     "execution_count": 32,
     "metadata": {},
     "output_type": "execute_result"
    }
   ],
   "source": [
    "model.get_weights()"
   ]
  },
  {
   "cell_type": "code",
   "execution_count": 37,
   "id": "b4e118ca-d4bd-489c-a948-fe777738319a",
   "metadata": {},
   "outputs": [
    {
     "name": "stdout",
     "output_type": "stream",
     "text": [
      "313/313 [==============================] - 1s 2ms/step - loss: 0.0673 - accuracy: 0.9826\n",
      "testloss:0.0673149824142456\n",
      "test_accuracy:0.9825999736785889\n"
     ]
    }
   ],
   "source": [
    "loss,accuracy = model.evaluate(test_data,test_labels)\n",
    "print(f'testloss:{loss}')\n",
    "print(f'test_accuracy:{accuracy}')"
   ]
  },
  {
   "cell_type": "code",
   "execution_count": 40,
   "id": "9f0db924-7c68-4543-80ea-649852e4991a",
   "metadata": {},
   "outputs": [],
   "source": [
    "# #### plotting the graphs ###\n",
    "import matplotlib.pyplot as plt\n",
    "# plt.plot(history.history['accuracy'])\n",
    "# plt.plot(history.history['']"
   ]
  },
  {
   "cell_type": "code",
   "execution_count": 42,
   "id": "c65cb3a8-db48-4dfd-85ca-f579aa1450d3",
   "metadata": {},
   "outputs": [
    {
     "data": {
      "image/png": "[encoded data removed]",
      "text/plain": [
       "<Figure size 640x480 with 1 Axes>"
      ]
     },
     "metadata": {},
     "output_type": "display_data"
    }
   ],
   "source": [
    "plt.subplot(1, 2, 2)\n",
    "plt.plot(history.history['loss'])\n",
    "#plt.plot(history.history['val_loss'])\n",
    "plt.title('Model loss')\n",
    "plt.ylabel('Loss')\n",
    "plt.xlabel('Epoch')\n",
    "plt.legend(['Train', 'Validation'], loc='upper left')\n",
    "\n",
    "plt.show()"
   ]
  },
  {
   "cell_type": "code",
   "execution_count": null,
   "id": "4aa6e339-2519-4b42-9d41-78ed235b179c",
   "metadata": {},
   "outputs": [],
   "source": []
  },
  {
   "cell_type": "code",
   "execution_count": null,
   "id": "53b9eea2-f08b-4122-a332-9475bcb9cf2c",
   "metadata": {},
   "outputs": [],
   "source": [
    "# Evaluate the model on the test data\n",
    "test_loss, test_accuracy = model.evaluate(x_test, y_test)\n",
    "print(f'Test loss: {test_loss}')\n",
    "print(f'Test accuracy: {test_accuracy}')\n",
    "\n",
    "# Plot training & validation accuracy values\n",
    "plt.figure(figsize=(12, 4))\n",
    "\n",
    "plt.subplot(1, 2, 1)\n",
    "plt.plot(history.history['accuracy'])\n",
    "plt.plot(history.history['val_accuracy'])\n",
    "plt.title('Model accuracy')\n",
    "plt.ylabel('Accuracy')\n",
    "plt.xlabel('Epoch')\n",
    "plt.legend(['Train', 'Validation'], loc='upper left')\n",
    "\n",
    "# Plot training & validation loss values\n",
    "plt.subplot(1, 2, 2)\n",
    "plt.plot(history.history['loss'])\n",
    "plt.plot(history.history['val_loss'])\n",
    "plt.title('Model loss')\n",
    "plt.ylabel('Loss')\n",
    "plt.xlabel('Epoch')\n",
    "plt.legend(['Train', 'Validation'], loc='upper left')"
   ]
  },
  {
   "cell_type": "code",
   "execution_count": null,
   "id": "72389ccf-e15c-464e-9805-1cd596248a37",
   "metadata": {},
   "outputs": [],
   "source": []
  }
 ],
 "metadata": {
  "kernelspec": {
   "display_name": "Python 3 (ipykernel)",
   "language": "python",
   "name": "python3"
  },
  "language_info": {
   "codemirror_mode": {
    "name": "ipython",
    "version": 3
   },
   "file_extension": ".py",
   "mimetype": "text/x-python",
   "name": "python",
   "nbconvert_exporter": "python",
   "pygments_lexer": "ipython3",
   "version": "3.10.14"
  }
 },
 "nbformat": 4,
 "nbformat_minor": 5
}
